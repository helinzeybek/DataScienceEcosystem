{
 "cells": [
  {
   "cell_type": "markdown",
   "id": "a3f1fc87-a81f-45a5-92d3-cfa217323c15",
   "metadata": {},
   "source": [
    "# Data Science Tools and Ecosystem"
   ]
  },
  {
   "cell_type": "markdown",
   "id": "8bdb33e3-55ad-4c52-b745-f1c2e2cb80bc",
   "metadata": {},
   "source": [
    "In this notebook, Data Science Tools and Ecosystem are summarized."
   ]
  },
  {
   "cell_type": "markdown",
   "id": "5cf1abbd-cef7-4d47-b700-98a768542019",
   "metadata": {},
   "source": [
    "**Objectives:**\n",
    "+ Python\n",
    "+ Julia\n",
    "+ Java\n",
    "+ R"
   ]
  },
  {
   "cell_type": "markdown",
   "id": "8e02a3f8-f6b9-4c2a-88e7-63d7a2cbea1f",
   "metadata": {},
   "source": [
    "Some of the popular languages that Data Scientists use are:\n",
    "\n",
    "    1. Python\n",
    "    2. R\n",
    "    3. SQL"
   ]
  },
  {
   "cell_type": "markdown",
   "id": "38e330d5-624e-4858-8d7d-c91f167a9b53",
   "metadata": {},
   "source": [
    "Some of the commonly used libraries used by Data Scientists include:\n",
    "\n",
    "    1. Pandas\n",
    "    2. NumPy\n",
    "    3. Matplotlib\n",
    "    4. Seaborn"
   ]
  },
  {
   "cell_type": "markdown",
   "id": "1cc1662f-1cdf-4df3-bb2a-8636208f61bf",
   "metadata": {},
   "source": [
    "|Data Science Tools|\n",
    "|-----------|\n",
    "|MySQL|\n",
    "|PostgreSQL|\n",
    "|Apache AirFlow|"
   ]
  },
  {
   "cell_type": "markdown",
   "id": "b1bc1467-fd30-4fd2-9241-86bb596061fb",
   "metadata": {},
   "source": [
    "### Below are a few examples of evaluating arithmetic expressions in Python"
   ]
  },
  {
   "cell_type": "code",
   "execution_count": 1,
   "id": "a036b9d4-6dc6-404b-b30e-cb5f25735ca1",
   "metadata": {
    "tags": []
   },
   "outputs": [
    {
     "data": {
      "text/plain": [
       "17"
      ]
     },
     "execution_count": 1,
     "metadata": {},
     "output_type": "execute_result"
    }
   ],
   "source": [
    "#This a simple arithmetic expression to mutiply then add integers\n",
    "(3*4)+5"
   ]
  },
  {
   "cell_type": "code",
   "execution_count": 3,
   "id": "329a471a-31bb-4cd4-bb89-2895a0b0d4c7",
   "metadata": {
    "tags": []
   },
   "outputs": [
    {
     "data": {
      "text/plain": [
       "3.3333333333333335"
      ]
     },
     "execution_count": 3,
     "metadata": {},
     "output_type": "execute_result"
    }
   ],
   "source": [
    "#This will convert 200 minutes to hours by diving by 60\n",
    "minutes = 200\n",
    "hours = minutes/60\n",
    "hours"
   ]
  },
  {
   "cell_type": "markdown",
   "id": "987ec61a-727e-4388-a658-7e4b5b232576",
   "metadata": {},
   "source": [
    "## Author\n",
    "Helin Zeybek"
   ]
  },
  {
   "cell_type": "markdown",
   "id": "61822762-1602-472a-9569-66a73c973a62",
   "metadata": {},
   "source": [
    "## Author\n",
    "Helin Zeybek"
   ]
  },
  {
   "cell_type": "markdown",
   "id": "4e24cc55-7130-4703-91af-e2baa8b29bef",
   "metadata": {},
   "source": [
    "*Note: To create more understandable screenshots, I used additional markdown cells. In each exercise, I created 3 markdown cells(2 for the unnecessary ones): one indicates which exercise the cell belongs to, while the other two cells are identical. I ran one of them to show the result. However, I deleted the explanatory cells after taking the screenshots to keep the notebook fluid.*"
   ]
  },
  {
   "cell_type": "code",
   "execution_count": null,
   "id": "9a13f718-f7d2-4411-a758-59b18791e725",
   "metadata": {},
   "outputs": [],
   "source": []
  }
 ],
 "metadata": {
  "kernelspec": {
   "display_name": "Python",
   "language": "python",
   "name": "conda-env-python-py"
  },
  "language_info": {
   "codemirror_mode": {
    "name": "ipython",
    "version": 3
   },
   "file_extension": ".py",
   "mimetype": "text/x-python",
   "name": "python",
   "nbconvert_exporter": "python",
   "pygments_lexer": "ipython3",
   "version": "3.7.12"
  }
 },
 "nbformat": 4,
 "nbformat_minor": 5
}
