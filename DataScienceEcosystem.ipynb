{
 "cells": [
  {
   "cell_type": "markdown",
   "id": "e01b5a3f-ccb4-402c-9abf-07a94beb415c",
   "metadata": {},
   "source": [
    "Exercise 2: Create markdown cell with title of the notebook"
   ]
  },
  {
   "cell_type": "markdown",
   "id": "9a3b47e3-4d16-4b05-8ed2-3fef20a27459",
   "metadata": {},
   "source": [
    "# Data Science Tools and Ecosystem"
   ]
  },
  {
   "cell_type": "markdown",
   "id": "a3f1fc87-a81f-45a5-92d3-cfa217323c15",
   "metadata": {},
   "source": [
    "# Data Science Tools and Ecosystem"
   ]
  },
  {
   "cell_type": "markdown",
   "id": "94c63e35-d908-4bd9-b2db-04ae21482424",
   "metadata": {},
   "source": [
    "Exercise 3 - Create a markdown cell for an introduction"
   ]
  },
  {
   "cell_type": "markdown",
   "id": "0090175a-dad9-4088-a6d7-81b876f253c4",
   "metadata": {},
   "source": [
    "In this notebook, Data Science Tools and Ecosystem are summarized."
   ]
  },
  {
   "cell_type": "markdown",
   "id": "8bdb33e3-55ad-4c52-b745-f1c2e2cb80bc",
   "metadata": {},
   "source": [
    "In this notebook, Data Science Tools and Ecosystem are summarized."
   ]
  },
  {
   "cell_type": "markdown",
   "id": "d23e4a34-404d-4347-a0a0-9f302aaf3569",
   "metadata": {},
   "source": [
    "**Objectives:**\n",
    "+ Python\n",
    "+ Julia\n",
    "+ Java\n",
    "+ R"
   ]
  },
  {
   "cell_type": "markdown",
   "id": "5cf1abbd-cef7-4d47-b700-98a768542019",
   "metadata": {},
   "source": [
    "**Objectives:**\n",
    "+ Python\n",
    "+ Julia\n",
    "+ Java\n",
    "+ R"
   ]
  },
  {
   "cell_type": "markdown",
   "id": "6f67f77d-00a5-44d4-95f4-f6a9b1d6d357",
   "metadata": {},
   "source": [
    "Exercise 4 - Create a markdown cell to list data science languages"
   ]
  },
  {
   "cell_type": "markdown",
   "id": "c1fa5669-6937-47f1-a439-6c731842c129",
   "metadata": {},
   "source": [
    "Some of the popular languages that Data Scientists use are:\n",
    "\n",
    "    1. Python\n",
    "    2. R\n",
    "    3. SQL"
   ]
  },
  {
   "cell_type": "markdown",
   "id": "8e02a3f8-f6b9-4c2a-88e7-63d7a2cbea1f",
   "metadata": {},
   "source": [
    "Some of the popular languages that Data Scientists use are:\n",
    "\n",
    "    1. Python\n",
    "    2. R\n",
    "    3. SQL"
   ]
  },
  {
   "cell_type": "markdown",
   "id": "ca903bdb-b44a-4d8a-a70d-3ec20f853226",
   "metadata": {},
   "source": [
    "Exercise 5 - Create a markdown cell to list data science libraries"
   ]
  },
  {
   "cell_type": "markdown",
   "id": "81ed5183-edc4-42b8-8520-b643f1318435",
   "metadata": {},
   "source": [
    "Some of the commonly used libraries used by Data Scientists include:\n",
    "\n",
    "    1. Pandas\n",
    "    2. NumPy\n",
    "    3. Matplotlib\n",
    "    4. Seaborn"
   ]
  },
  {
   "cell_type": "markdown",
   "id": "38e330d5-624e-4858-8d7d-c91f167a9b53",
   "metadata": {},
   "source": [
    "Some of the commonly used libraries used by Data Scientists include:\n",
    "\n",
    "    1. Pandas\n",
    "    2. NumPy\n",
    "    3. Matplotlib\n",
    "    4. Seaborn"
   ]
  },
  {
   "cell_type": "markdown",
   "id": "4c395868-e11f-40ec-9124-556618ff378a",
   "metadata": {},
   "source": [
    "Exercise 6 - Create a markdown cell with a table of Data Science tools"
   ]
  },
  {
   "cell_type": "markdown",
   "id": "ac45c497-248a-48af-b454-93937b00a01a",
   "metadata": {},
   "source": [
    "|Data Science Tools|\n",
    "|-----------|\n",
    "|MySQL|\n",
    "|PostgreSQL|\n",
    "|Apache AirFlow|"
   ]
  },
  {
   "cell_type": "markdown",
   "id": "1cc1662f-1cdf-4df3-bb2a-8636208f61bf",
   "metadata": {},
   "source": [
    "|Data Science Tools|\n",
    "|-----------|\n",
    "|MySQL|\n",
    "|PostgreSQL|\n",
    "|Apache AirFlow|"
   ]
  },
  {
   "cell_type": "markdown",
   "id": "5abd6f7c-ebf5-4c72-8c19-420440d60357",
   "metadata": {},
   "source": [
    "Exercise 7 - Create a markdown cell introducing arithmetic expression examples"
   ]
  },
  {
   "cell_type": "markdown",
   "id": "8719cf7f-2941-4230-ba81-fa8211f814cd",
   "metadata": {},
   "source": [
    "### Below are a few examples of evaluating arithmetic expressions in Python"
   ]
  },
  {
   "cell_type": "markdown",
   "id": "b1bc1467-fd30-4fd2-9241-86bb596061fb",
   "metadata": {},
   "source": [
    "### Below are a few examples of evaluating arithmetic expressions in Python"
   ]
  },
  {
   "cell_type": "markdown",
   "id": "d04d223c-a0cb-4b8c-83f5-6e21374fb5c0",
   "metadata": {},
   "source": [
    "Exercise 8 - Create a code cell to multiply and add numbers"
   ]
  },
  {
   "cell_type": "code",
   "execution_count": 1,
   "id": "a036b9d4-6dc6-404b-b30e-cb5f25735ca1",
   "metadata": {
    "tags": []
   },
   "outputs": [
    {
     "data": {
      "text/plain": [
       "17"
      ]
     },
     "execution_count": 1,
     "metadata": {},
     "output_type": "execute_result"
    }
   ],
   "source": [
    "#This a simple arithmetic expression to mutiply then add integers\n",
    "(3*4)+5"
   ]
  },
  {
   "cell_type": "markdown",
   "id": "550cd44f-ecc3-49d9-982f-74fef7c2092d",
   "metadata": {},
   "source": [
    "Exercise 9 - Create a code cell to convert minutes to hours"
   ]
  },
  {
   "cell_type": "code",
   "execution_count": 3,
   "id": "329a471a-31bb-4cd4-bb89-2895a0b0d4c7",
   "metadata": {
    "tags": []
   },
   "outputs": [
    {
     "data": {
      "text/plain": [
       "3.3333333333333335"
      ]
     },
     "execution_count": 3,
     "metadata": {},
     "output_type": "execute_result"
    }
   ],
   "source": [
    "#This will convert 200 minutes to hours by diving by 60\n",
    "minutes = 200\n",
    "hours = minutes/60\n",
    "hours"
   ]
  },
  {
   "cell_type": "markdown",
   "id": "d1b765fc-5e14-47b6-ad6a-8e23c066f31e",
   "metadata": {},
   "source": [
    "Exercise 11 - Create a markdown cell to indicate the Author's name"
   ]
  },
  {
   "cell_type": "markdown",
   "id": "987ec61a-727e-4388-a658-7e4b5b232576",
   "metadata": {},
   "source": [
    "## Author\n",
    "Helin Zeybek"
   ]
  },
  {
   "cell_type": "markdown",
   "id": "61822762-1602-472a-9569-66a73c973a62",
   "metadata": {},
   "source": [
    "## Author\n",
    "Helin Zeybek"
   ]
  },
  {
   "cell_type": "code",
   "execution_count": null,
   "id": "8f014137-1295-4c89-95bc-9e39d4ba8f49",
   "metadata": {},
   "outputs": [],
   "source": []
  }
 ],
 "metadata": {
  "kernelspec": {
   "display_name": "Python",
   "language": "python",
   "name": "conda-env-python-py"
  },
  "language_info": {
   "codemirror_mode": {
    "name": "ipython",
    "version": 3
   },
   "file_extension": ".py",
   "mimetype": "text/x-python",
   "name": "python",
   "nbconvert_exporter": "python",
   "pygments_lexer": "ipython3",
   "version": "3.7.12"
  }
 },
 "nbformat": 4,
 "nbformat_minor": 5
}
